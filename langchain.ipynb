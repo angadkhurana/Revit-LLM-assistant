{
 "cells": [
  {
   "cell_type": "code",
   "execution_count": 1,
   "metadata": {},
   "outputs": [
    {
     "data": {
      "text/plain": [
       "True"
      ]
     },
     "execution_count": 1,
     "metadata": {},
     "output_type": "execute_result"
    }
   ],
   "source": [
    "from langchain.document_loaders import TextLoader\n",
    "from langchain.chains import ConversationalRetrievalChain\n",
    "from langchain.text_splitter import CharacterTextSplitter\n",
    "from langchain.embeddings import OpenAIEmbeddings, HuggingFaceInstructEmbeddings\n",
    "from langchain.vectorstores import FAISS\n",
    "from langchain.memory import ConversationBufferMemory\n",
    "from langchain.chat_models import ChatOpenAI\n",
    "from langchain.chains import VectorDBQA\n",
    "from langchain.chains import RetrievalQA\n",
    "\n",
    "# from openai import OpenAI\n",
    "# import chromadb\n",
    "\n",
    "# Loading the environment which contains the OPENAI_API key\n",
    "from dotenv import load_dotenv, find_dotenv\n",
    "load_dotenv(find_dotenv())"
   ]
  },
  {
   "cell_type": "code",
   "execution_count": 2,
   "metadata": {},
   "outputs": [],
   "source": [
    "# # Loading the PDF file\n",
    "# from langchain.document_loaders import PyPDFLoader\n",
    "\n",
    "# loader = PyPDFLoader(r\"C:\\Users\\angad\\OneDrive\\Desktop\\AML\\thesis\\MSc_Thesis_02298815.pdf\") # PDF file path\n",
    "\n",
    "\n",
    "# # loader = PyPDFLoader(r\"C:\\Users\\angad\\OneDrive\\Desktop\\LangChain\\india-national-building-code-nbc-2016-vol-1 (1) (1).pdf\")\n",
    "# pages = loader.load_and_split() # essentially splits the pdf into pages with the `page_content` as the text information and `metadata` as the source\n"
   ]
  },
  {
   "cell_type": "code",
   "execution_count": 3,
   "metadata": {},
   "outputs": [],
   "source": [
    "# from langchain.document_loaders import TextLoader\n",
    "# from langchain.chains import ConversationalRetrievalChain\n",
    "# from langchain.text_splitter import CharacterTextSplitter\n",
    "# from langchain.embeddings import OpenAIEmbeddings, HuggingFaceInstructEmbeddings\n",
    "# from langchain.vectorstores import FAISS\n",
    "# from langchain.memory import ConversationBufferMemory\n",
    "# from langchain.chains import ConversationalRetrievalChain\n",
    "# from langchain.chat_models import ChatOpenAI\n",
    "# from langchain.chains import VectorDBQA\n",
    "# from langchain.chains import RetrievalQA\n",
    "# # from openai import OpenAI\n",
    "# # import chromadb\n",
    "\n",
    "# embeddings = OpenAIEmbeddings() # creating the embeddings\n",
    "# llm = ChatOpenAI() # the llm model \n",
    "\n",
    "# documents = pages\n",
    "\n",
    "# # concatenating all the text in the pdf into one string\n",
    "# text = \"\"\n",
    "# for i in pages:\n",
    "#     text += i.page_content\n",
    "\n",
    "# # text splitter\n",
    "# text_splitter = CharacterTextSplitter(\n",
    "#         separator=\"\\n\",\n",
    "#         chunk_size=1500,\n",
    "#         chunk_overlap=500,\n",
    "#         length_function=len,\n",
    "#     )\n",
    "# chunks = text_splitter.split_text(text)\n"
   ]
  },
  {
   "cell_type": "code",
   "execution_count": 4,
   "metadata": {},
   "outputs": [],
   "source": [
    "from langchain.document_loaders import TextLoader\n",
    "from langchain.text_splitter import MarkdownHeaderTextSplitter\n",
    "\n",
    "\n",
    "loader = TextLoader(\"fire_life_safety.md\")\n",
    "\n",
    "# loader = TextLoader(r\"C:\\Users\\angad\\OneDrive\\Desktop\\AML\\thesis\\MSc_Thesis_02298815.md\")\n",
    "md_text = loader.load()[0].page_content\n",
    "\n",
    "headers_to_split_on = [\n",
    "    (\"#\", \"Header 1\"),\n",
    "    (\"##\", \"Header 2\"),\n",
    "    (\"###\", \"Header 3\"),\n",
    "    (\"####\", \"Header 4\"),\n",
    "]\n",
    "\n",
    "markdown_splitter = MarkdownHeaderTextSplitter(headers_to_split_on=headers_to_split_on)\n",
    "md_header_splits = markdown_splitter.split_text(md_text)\n",
    "\n",
    "# Char-level splits\n",
    "from langchain.text_splitter import RecursiveCharacterTextSplitter\n",
    "\n",
    "# chunk_size = 1000\n",
    "# chunk_overlap = 500\n",
    "# text_splitter = RecursiveCharacterTextSplitter(\n",
    "#     chunk_size=chunk_size, chunk_overlap=chunk_overlap\n",
    "# )\n",
    "\n",
    "# text splitter\n",
    "text_splitter = CharacterTextSplitter(\n",
    "        separator=\"\\n\",\n",
    "        chunk_size=2000,\n",
    "        chunk_overlap=1000,\n",
    "        length_function=len,\n",
    "    )\n",
    "\n",
    "# Split\n",
    "splits = text_splitter.split_documents(md_header_splits)\n",
    "splits\n",
    "chunks = [i.page_content for i in splits]\n",
    "\n"
   ]
  },
  {
   "cell_type": "code",
   "execution_count": 5,
   "metadata": {},
   "outputs": [],
   "source": [
    "# import pickle\n",
    "\n",
    "# with open('vectorstore_bsc', 'rb') as file:\n",
    "#     # Use pickle.dump() to serialize and save the object to the file\n",
    "#     vectorstore = pickle.load(file)"
   ]
  },
  {
   "cell_type": "code",
   "execution_count": 6,
   "metadata": {},
   "outputs": [],
   "source": [
    "from langchain.embeddings import HuggingFaceInstructEmbeddings\n",
    "from langchain.vectorstores import FAISS\n",
    "\n",
    "# HuggingFace Embeddings\n",
    "# embeddings = HuggingFaceInstructEmbeddings(\n",
    "#     query_instruction=\"Represent the query for retrieval: \"\n",
    "# )\n",
    "embeddings = OpenAIEmbeddings() # creating the embeddings\n",
    "llm = ChatOpenAI(model = 'gpt-4') # the llm model \n",
    "\n",
    "vectorstore = FAISS.from_texts(chunks, embeddings) "
   ]
  },
  {
   "cell_type": "code",
   "execution_count": 7,
   "metadata": {},
   "outputs": [],
   "source": [
    "retriever = vectorstore.as_retriever(search_kwargs={\"k\": 4}) # setting up the text retriever. This allows us to choose the number of documents to be returned"
   ]
  },
  {
   "cell_type": "code",
   "execution_count": 8,
   "metadata": {},
   "outputs": [],
   "source": [
    "# # GPT4All is a local GPT model, change the model to the location on your PC where the model is installed\n",
    "\n",
    "# from langchain.llms import GPT4All\n",
    "\n",
    "# llm = GPT4All(\n",
    "#     model=\"/Users/rlm/Desktop/Code/gpt4all/models/nous-hermes-13b.ggmlv3.q4_0.bin\", # change this with your path for GPT4ALL\n",
    "#     max_tokens=2048, # max tokens to generate\n",
    "# )"
   ]
  },
  {
   "cell_type": "code",
   "execution_count": 9,
   "metadata": {},
   "outputs": [],
   "source": [
    "# Create retrieval QA chain\n",
    "# from langchain.memory import ConversationSummaryMemory\n",
    "# memory = ConversationSummaryMemory(llm=llm)\n",
    "# from langchain.memory import ConversationBufferWindowMemory\n",
    "\n",
    "\n",
    "\n",
    "\n",
    "# qa_chain = RetrievalQA.from_chain_type(\n",
    "#     retriever=retriever,\n",
    "#     llm=llm,\n",
    "#     memory=ConversationBufferWindowMemory(k=5), # your preferred LLM \n",
    "# )\n",
    "\n",
    "# Ask a question\n",
    "# query = \"what is the title?\"\n",
    "# result = qa_chain.run(query)\n",
    "# print(result)"
   ]
  },
  {
   "cell_type": "code",
   "execution_count": 20,
   "metadata": {},
   "outputs": [],
   "source": [
    "from langchain.chains import ConversationalRetrievalChain\n",
    "from langchain.llms import OpenAI\n",
    "from langchain.chains import LLMChain\n",
    "from langchain.chains.qa_with_sources.loading import load_qa_with_sources_chain\n",
    "from langchain.chains.question_answering import load_qa_chain\n",
    "from langchain.memory import ConversationBufferMemory\n",
    "from langchain.chains.conversational_retrieval.prompts import CONDENSE_QUESTION_PROMPT\n",
    "\n",
    "\n",
    "\n",
    "from langchain.memory import ConversationBufferMemory\n",
    "\n",
    "memory = ConversationBufferMemory(memory_key=\"chat_history\", return_messages=True)\n",
    "\n",
    "bot = ConversationalRetrievalChain.from_llm(\n",
    "    llm, retriever, memory=memory, verbose=False\n",
    ")"
   ]
  },
  {
   "cell_type": "code",
   "execution_count": 12,
   "metadata": {},
   "outputs": [
    {
     "data": {
      "text/plain": [
       "\"The text doesn't provide enough information to definitively answer your question. Based on the provided text, the National Building Code of India outlines specific rules for fire and life safety in buildings and these rules must be adhered to. However, it is not clear if these rules can be flexibly combined based on common underlying principles to evaluate if a model complies with all of them. The text mentions that exceptions and deviations to the general provisions can be considered in case of practical difficulty or to avoid unnecessary hardship, without sacrificing reasonable safety. Yet, it doesn't specifically address flexible combination of rules based on common principles.\""
      ]
     },
     "execution_count": 12,
     "metadata": {},
     "output_type": "execute_result"
    }
   ],
   "source": [
    "query = \"Do the rules in my set share common underlying principles that can be flexibly combined to assess whether a model adheres to all of them?\"\n",
    "result = bot({\"question\": query})#\n",
    "result['answer']"
   ]
  },
  {
   "cell_type": "code",
   "execution_count": 13,
   "metadata": {},
   "outputs": [
    {
     "data": {
      "text/plain": [
       "'The rules that necessitate the calculation of distance from one point to another are:\\n\\n1) Rule 6.7.2.1: This rule requires calculating the distance from points within the area to the nearest outside walls where exit doors could be provided in buildings used for aircraft assembly or other occupancy requiring undivided floor areas. If the distances are in excess of 45 m, specific requirements for distance to exits must be satisfied. It also states that in no case may the distance of travel to reach the nearest exit exceed 65 m where smoke venting is required as a condition for permitting distances of travel to exits in excess of the maximum otherwise allowed.\\n\\n2) Rule 4.4.2.2: This rule requires calculating the travel distance on the floor to ensure it does not exceed the distance given in Table 5. The distance is measured from the most remote point within a storey or a mezzanine floor along the natural and unobstructed path to an exit.'"
      ]
     },
     "execution_count": 13,
     "metadata": {},
     "output_type": "execute_result"
    }
   ],
   "source": [
    "query = \"What rules require calculating distance from one point to another in any capacity?\"\n",
    "result = bot({\"question\": query})#\n",
    "result['answer']"
   ]
  },
  {
   "cell_type": "code",
   "execution_count": 14,
   "metadata": {},
   "outputs": [
    {
     "data": {
      "text/plain": [
       "'The context provided does not include any specific rules that necessitate the calculation of the total number of specific elements.'"
      ]
     },
     "execution_count": 14,
     "metadata": {},
     "output_type": "execute_result"
    }
   ],
   "source": [
    "query = \"What rules require calculating the total number of certain elements?\"\n",
    "result = bot({\"question\": query})#\n",
    "result['answer']"
   ]
  },
  {
   "cell_type": "code",
   "execution_count": 15,
   "metadata": {},
   "outputs": [
    {
     "data": {
      "text/plain": [
       "'The rules mentioned in the context provided also mandate the following requirements apart from counting the total number of certain elements or calculating distance:\\n\\n1. Rules govern the height for different types of buildings according to their occupancy, the width of streets providing approach to the building, permitted floor area ratio (FAR), and permitted open space around or inside buildings.\\n\\n2. Adequate passageway and clearances are required for firefighting vehicles.\\n\\n3. Attention must be paid to factors that limit fire spread when designing openings in fire-resistant walls and floors.\\n\\n4. A doorway or opening in a fire-resistant wall on any floor should not exceed specified dimensions. They also need to be protected with fire-resisting doors of a certain fire rating.\\n\\n5. Escalator openings must have provisions to avoid smoke spill and need to have sprinklers installed on all sides of the cut out opening on each floor.\\n\\n6. Certain systems are required for specific buildings according to their height and occupancy, such as a talk-back system and public address system.\\n\\n7. Buildings above a certain height are not permitted for certain occupancies.\\n\\n8. Installations are required in basements if the area of the basement exceeds a certain size.\\n\\n9. Water for sprinklers should come from both underground static water storage tanks and terrace tanks.\\n\\n10. Certain buildings require sets of pumps of specific capacities.\\n\\n11. The rules also specify requirements for fire prevention, life safety in relation to fire, and fire protection of buildings according to their occupancy.\\n\\n12. The rules also cover egress requirements and protection features necessary to minimise danger to life and property from fire.\\n\\n13. Special provisions are provided for buildings used for specific purposes such as aircraft assembly or other occupancies requiring undivided floor areas.\\n\\n14. There are also requirements for special purpose industrial occupancies and high hazard industrial occupancies.'"
      ]
     },
     "execution_count": 15,
     "metadata": {},
     "output_type": "execute_result"
    }
   ],
   "source": [
    "query = \"The other rules require what kind of stuff other than counting the total number of certain elements or calculating the distance?\"\n",
    "result = bot({\"question\": query})#\n",
    "result['answer']"
   ]
  },
  {
   "cell_type": "code",
   "execution_count": 16,
   "metadata": {},
   "outputs": [
    {
     "data": {
      "text/plain": [
       "'The basic principles common to all rules include:\\n\\n1. Calculation of distances: This involves measuring the travel distance from the most remote point within a storey or a mezzanine floor along the natural and unobstructed path of horizontal or vertical egress travel to the door to an exit. The travel distance on the floor should not exceed the distance given in the specific table (referenced as Table 5 in the text).\\n\\n2. Number and arrangement of exits: The minimum required number of exits in a building is determined based on occupant load and width required per person as appropriate to the type of exit for respective occupancies. Exits should be placed as remote from each other as possible and arranged to provide direct access in separate directions from any point in the area served.\\n\\n3. Capacity of exit access: The width of corridors, aisles or ramps required for exit access should be sufficient to ensure a smooth flow of occupants to the exit. The calculation of capacity of exit access is determined by specific rules (referenced as 4.4.2.4 in the text). The total capacity of all the respective means of egress serving a floor should be sufficient to allow egress of the entire population of the floor.\\n\\n4. Size and protection of openings: For certain types of construction, an opening in a fire-resistant wall on any floor is limited to a specific area with a maximum height/width. Every wall opening should be protected with fire-resisting doors and the openings in the floors should be protected by enclosures that have a fire resistance of not less than 120 min.\\n\\n5. Clearances for firefighting vehicles: Adequate passageway and clearances for firefighting vehicles are required.\\n\\n6. Floor Area Ratio (FAR): The comparative floor area ratios for different occupancies and types of construction are given in a specific table (referenced as Table 2 in the text).\\n\\n7. Open space requirements: The requirements of open space around the building(s) shall be in accordance with specific provisions of the code. \\n\\nThese principles are necessary to maintain the safety and functionality of the building, and must be strictly adhered to during the construction and maintenance processes.\\n'"
      ]
     },
     "execution_count": 16,
     "metadata": {},
     "output_type": "execute_result"
    }
   ],
   "source": [
    "query = \"List all the fundamental things such as calculating the distance or counting the numeber of elements etc which can encompass all rules\"\n",
    "result = bot({\"question\": query})#\n",
    "result['answer']"
   ]
  },
  {
   "cell_type": "code",
   "execution_count": 18,
   "metadata": {},
   "outputs": [
    {
     "name": "stdout",
     "output_type": "stream",
     "text": [
      "The basic principles common to all rules include:\n",
      "\n",
      "1. Calculation of distances: This involves measuring the travel distance from the most remote point within a storey or a mezzanine floor along the natural and unobstructed path of \n",
      "orizontal or vertical egress travel to the door to an exit. The travel distance on the floor should not exceed the distance given in the specific table (referenced as Table 5 in th\n",
      " text).\n",
      "\n",
      "2. Number and arrangement of exits: The minimum required number of exits in a building is determined based on occupant load and width required per person as appropriate to the type\n",
      "of exit for respective occupancies. Exits should be placed as remote from each other as possible and arranged to provide direct access in separate directions from any point in the \n",
      "rea served.\n",
      "\n",
      "3. Capacity of exit access: The width of corridors, aisles or ramps required for exit access should be sufficient to ensure a smooth flow of occupants to the exit. The calculation \n",
      "f capacity of exit access is determined by specific rules (referenced as 4.4.2.4 in the text). The total capacity of all the respective means of egress serving a floor should be su\n",
      "ficient to allow egress of the entire population of the floor.\n",
      "\n",
      "4. Size and protection of openings: For certain types of construction, an opening in a fire-resistant wall on any floor is limited to a specific area with a maximum height/width. E\n",
      "ery wall opening should be protected with fire-resisting doors and the openings in the floors should be protected by enclosures that have a fire resistance of not less than 120 min\n",
      "\n",
      "\n",
      "5. Clearances for firefighting vehicles: Adequate passageway and clearances for firefighting vehicles are required.\n",
      "\n",
      "6. Floor Area Ratio (FAR): The comparative floor area ratios for different occupancies and types of construction are given in a specific table (referenced as Table 2 in the text).\n",
      "\n",
      "7. Open space requirements: The requirements of open space around the building(s) shall be in accordance with specific provisions of the code. \n",
      "\n",
      "These principles are necessary to maintain the safety and functionality of the building, and must be strictly adhered to during the construction and maintenance processes.\n"
     ]
    }
   ],
   "source": [
    "def split_string(input_string, max_length=180):\n",
    "    # max_length = 125\n",
    "    chunks = []\n",
    "\n",
    "    current_chunk = \"\"\n",
    "    for char in input_string:\n",
    "        if char == '\\n' or len(current_chunk) == max_length:\n",
    "            chunks.append(current_chunk)\n",
    "            current_chunk = \"\"\n",
    "        else:\n",
    "            current_chunk += char\n",
    "\n",
    "    # Append the last chunk\n",
    "    if current_chunk:\n",
    "        chunks.append(current_chunk)\n",
    "\n",
    "    return chunks\n",
    "\n",
    "large_string = result['answer']\n",
    "\n",
    "# Split the string using the newline character\n",
    "lines = split_string(large_string)\n",
    "\n",
    "# Print each line\n",
    "for line in lines:\n",
    "    print(line)"
   ]
  },
  {
   "cell_type": "code",
   "execution_count": 19,
   "metadata": {},
   "outputs": [
    {
     "data": {
      "text/plain": [
       "'The document does not provide any additional fundamental principles that can encompass all rules. However, it does mention that the purpose of this Part of the Code is to minimize danger to life and property from fire through occupancy-wise classification, constructional aspects, egress requirements and protection features. It also emphasizes the importance of maintaining all means of exit and fire protection measures during construction, repairs, alterations or additions to a building.'"
      ]
     },
     "execution_count": 19,
     "metadata": {},
     "output_type": "execute_result"
    }
   ],
   "source": [
    "query = 'are there any more?'\n",
    "result = bot({\"question\": query})#\n",
    "result['answer']"
   ]
  },
  {
   "cell_type": "code",
   "execution_count": 21,
   "metadata": {},
   "outputs": [
    {
     "data": {
      "text/plain": [
       "'The document does not provide a specific list of fundamental principles that encompass all rules. However, from the given excerpts, we can infer several key principles that guide the rules for fire and life safety in the National Building Code of India:\\n\\n1. Fire Prevention: Buildings should be constructed and maintained in a manner that minimizes the risk of fire. This includes the use of non-flammable materials and the installation of fire suppression systems.\\n\\n2. Life Safety: Buildings must be designed in a way that ensures the safety of occupants in case of fire. This includes adequate means of egress, the provision of refuge areas, and the need for effective evacuation plans.\\n\\n3. Regular Updates: The rules and standards referred to in the code are subject to revision, encouraging parties to apply the most recent editions of the standards.\\n\\n4. Accessibility: Buildings must also be designed keeping in mind the needs of the elderly and persons with disabilities to ensure a smooth and safe egress.\\n\\n5. Comprehensiveness: The code covers a wide range of building types and occupancies, including high-rise buildings, hotels, educational institutions, and more.\\n\\n6. Specific Requirements: The code takes into account specific needs based on building type, such as the requirements for assembly buildings and call centres to display their occupancy load. \\n\\n7. Precision: Any test or analysis result used to determine compliance with the code should be accurate and precise.\\n\\nPlease note that these principles are inferred from the given excerpts and the actual document may contain more comprehensive principles.'"
      ]
     },
     "execution_count": 21,
     "metadata": {},
     "output_type": "execute_result"
    }
   ],
   "source": [
    "query = 'List all fundamental principles that can encompass all rules'\n",
    "result = bot({\"question\": query})#\n",
    "result['answer']"
   ]
  },
  {
   "cell_type": "code",
   "execution_count": 22,
   "metadata": {},
   "outputs": [
    {
     "name": "stdout",
     "output_type": "stream",
     "text": [
      "The document does not provide a specific list of fundamental principles that encompass all rules. However, from the given excerpts, we can infer several key principles that guide t\n",
      "e rules for fire and life safety in the National Building Code of India:\n",
      "\n",
      "1. Fire Prevention: Buildings should be constructed and maintained in a manner that minimizes the risk of fire. This includes the use of non-flammable materials and the installatio\n",
      " of fire suppression systems.\n",
      "\n",
      "2. Life Safety: Buildings must be designed in a way that ensures the safety of occupants in case of fire. This includes adequate means of egress, the provision of refuge areas, and\n",
      "the need for effective evacuation plans.\n",
      "\n",
      "3. Regular Updates: The rules and standards referred to in the code are subject to revision, encouraging parties to apply the most recent editions of the standards.\n",
      "\n",
      "4. Accessibility: Buildings must also be designed keeping in mind the needs of the elderly and persons with disabilities to ensure a smooth and safe egress.\n",
      "\n",
      "5. Comprehensiveness: The code covers a wide range of building types and occupancies, including high-rise buildings, hotels, educational institutions, and more.\n",
      "\n",
      "6. Specific Requirements: The code takes into account specific needs based on building type, such as the requirements for assembly buildings and call centres to display their occup\n",
      "ncy load. \n",
      "\n",
      "7. Precision: Any test or analysis result used to determine compliance with the code should be accurate and precise.\n",
      "\n",
      "Please note that these principles are inferred from the given excerpts and the actual document may contain more comprehensive principles.\n"
     ]
    }
   ],
   "source": [
    "large_string = result['answer']\n",
    "\n",
    "# Split the string using the newline character\n",
    "lines = split_string(large_string)\n",
    "\n",
    "# Print each line\n",
    "for line in lines:\n",
    "    print(line)"
   ]
  },
  {
   "cell_type": "code",
   "execution_count": null,
   "metadata": {},
   "outputs": [],
   "source": [
    "from chromadb.utils import embedding_functions\n",
    "\n",
    "openai_ef = embedding_functions.OpenAIEmbeddingFunction(\n",
    "                model_name=\"text-embedding-ada-002\"\n",
    "            )"
   ]
  },
  {
   "cell_type": "code",
   "execution_count": null,
   "metadata": {},
   "outputs": [],
   "source": [
    "client = chromadb.Client()\n",
    "collection = client.get_or_create_collection(\"angad-msc\",embedding_function=openai_ef)"
   ]
  },
  {
   "cell_type": "code",
   "execution_count": null,
   "metadata": {},
   "outputs": [],
   "source": [
    "# Adding the text and metadata to chromadb\n",
    "documents = chunks\n",
    "metadatas = [{\"source\":\"angad_msc\"} for i in range(len(chunks)) ]\n",
    "ids = [str(i) for i in range(len(chunks))]\n",
    "collection.add(\n",
    "            documents = documents,\n",
    "            metadatas = metadatas,\n",
    "            ids = ids\n",
    "    )"
   ]
  },
  {
   "cell_type": "code",
   "execution_count": null,
   "metadata": {},
   "outputs": [],
   "source": [
    "# question = \"Who is my supervisor?\"\n",
    "question = \"summarise section 3\"\n",
    "results = collection.query(query_texts = [question], n_results = 5)\n"
   ]
  },
  {
   "cell_type": "code",
   "execution_count": null,
   "metadata": {},
   "outputs": [],
   "source": [
    "from langchain.chat_models import ChatOpenAI\n",
    "from langchain.prompts.chat import ChatPromptTemplate\n",
    "from langchain.schema import BaseOutputParser\n",
    "\n",
    "results = collection.query(query_texts = [question], n_results = 2)\n",
    "\n",
    "template = \"\"\"The following piece of text is given: {text}. Please answer any following questions ONLY using THIS piece of text in a brief manner.\"\"\"\n",
    "human_template = \"{question}\"\n",
    "\n",
    "chat_prompt = ChatPromptTemplate.from_messages([\n",
    "    (\"system\", template),\n",
    "    (\"human\", human_template),\n",
    "])\n",
    "chain = chat_prompt | ChatOpenAI() \n",
    "context = ''\n",
    "for i in range(len(results['documents'])):\n",
    "    context = context + results['documents'][0][i] + '\\n'\n",
    "chain.invoke({\"text\": context, \"question\": question})\n"
   ]
  },
  {
   "cell_type": "code",
   "execution_count": null,
   "metadata": {},
   "outputs": [],
   "source": [
    "llm = ChatOpenAI()\n",
    "memory = ConversationBufferMemory(memory_key='chat_history', return_messages=True)\n",
    "conversation_chain = ConversationalRetrievalChain.from_llm(\n",
    "    llm=llm,\n",
    "    retriever=vectorstore.as_retriever(),\n",
    "    memory=memory,\n",
    "    return_source_documents=True\n",
    "    )"
   ]
  }
 ],
 "metadata": {
  "kernelspec": {
   "display_name": "Python 3",
   "language": "python",
   "name": "python3"
  },
  "language_info": {
   "codemirror_mode": {
    "name": "ipython",
    "version": 3
   },
   "file_extension": ".py",
   "mimetype": "text/x-python",
   "name": "python",
   "nbconvert_exporter": "python",
   "pygments_lexer": "ipython3",
   "version": "3.11.5"
  },
  "orig_nbformat": 4
 },
 "nbformat": 4,
 "nbformat_minor": 2
}
