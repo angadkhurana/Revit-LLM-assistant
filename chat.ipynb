{
 "cells": [
  {
   "cell_type": "code",
   "execution_count": 36,
   "metadata": {},
   "outputs": [
    {
     "data": {
      "text/plain": [
       "True"
      ]
     },
     "execution_count": 36,
     "metadata": {},
     "output_type": "execute_result"
    }
   ],
   "source": [
    "from langchain.document_loaders import TextLoader\n",
    "from langchain.chains import ConversationalRetrievalChain\n",
    "from langchain.text_splitter import CharacterTextSplitter\n",
    "from langchain.embeddings import OpenAIEmbeddings, HuggingFaceInstructEmbeddings\n",
    "from langchain.vectorstores import FAISS\n",
    "from langchain.memory import ConversationBufferMemory\n",
    "from langchain.chains import ConversationalRetrievalChain\n",
    "from langchain.chat_models import ChatOpenAI\n",
    "from langchain.chains import VectorDBQA\n",
    "from langchain.chains import RetrievalQA\n",
    "from dotenv import load_dotenv, find_dotenv\n",
    "load_dotenv(find_dotenv())"
   ]
  },
  {
   "cell_type": "code",
   "execution_count": 37,
   "metadata": {},
   "outputs": [],
   "source": [
    "from langchain.chat_models import ChatOpenAI\n",
    "from langchain.chains import LLMChain\n",
    "from langchain.llms import OpenAI\n",
    "from langchain.memory import ConversationBufferMemory\n",
    "from langchain.prompts import PromptTemplate\n",
    "from langchain.prompts import (\n",
    "    ChatPromptTemplate,\n",
    "    HumanMessagePromptTemplate,\n",
    "    MessagesPlaceholder,\n",
    ")\n",
    "from langchain.schema import SystemMessage\n",
    "\n",
    "prompt = ChatPromptTemplate.from_messages(\n",
    "    [\n",
    "        SystemMessage(\n",
    "            content=\"You are a chatbot having a conversation with a human.\"\n",
    "        ),  # The persistent system prompt\n",
    "        MessagesPlaceholder(\n",
    "            variable_name=\"chat_history\"\n",
    "        ),  # Where the memory will be stored.\n",
    "        HumanMessagePromptTemplate.from_template(\n",
    "            \"{human_input}\"\n",
    "        ),  # Where the human input will injected\n",
    "    ]\n",
    ")\n",
    "\n",
    "memory = ConversationBufferMemory(memory_key=\"chat_history\", return_messages=True)\n",
    "\n",
    "llm = ChatOpenAI(model='gpt-4')\n",
    "\n",
    "# llm = OpenAI(model='gpt-4-vision-preview')\n",
    "\n",
    "chat_llm_chain = LLMChain(\n",
    "    llm=llm,\n",
    "    prompt=prompt,\n",
    "    verbose=False,\n",
    "    memory=memory,\n",
    ")\n",
    "\n",
    "# chat_llm_chain.predict(human_input=\"my name is angad\")"
   ]
  },
  {
   "cell_type": "code",
   "execution_count": 38,
   "metadata": {},
   "outputs": [],
   "source": [
    "# from langchain.schema.messages import HumanMessage, SystemMessage\n",
    "\n",
    "# chat = ChatOpenAI(model=\"gpt-4-vision-preview\")\n",
    "# chat.invoke(\n",
    "#     [\n",
    "#         HumanMessage(\n",
    "#             content=[\n",
    "#                 {\"type\": \"text\", \"text\": \"\"\"I'm giving you an image of a floorplan.\n",
    "#                  \"\"\"},\n",
    "#                 {\n",
    "#                     \"type\": \"image_url\",\n",
    "#                     \"image_url\": {\n",
    "#                         \"url\": \"https://www.grundriss-schmiede.de/images/buerogrundriss/buerogrundriss.png\",\n",
    "#                         \"detail\": \"auto\",\n",
    "#                     },\n",
    "#                 },\n",
    "#             ]\n",
    "#         )\n",
    "#     ]\n",
    "# )"
   ]
  },
  {
   "cell_type": "code",
   "execution_count": 39,
   "metadata": {},
   "outputs": [],
   "source": [
    "def split_string(input_string, max_length=180):\n",
    "    # max_length = 125\n",
    "    chunks = []\n",
    "\n",
    "    current_chunk = \"\"\n",
    "    for char in input_string:\n",
    "        if char == '\\n' or len(current_chunk) == max_length:\n",
    "            chunks.append(current_chunk)\n",
    "            current_chunk = \"\"\n",
    "        else:\n",
    "            current_chunk += char\n",
    "\n",
    "    # Append the last chunk\n",
    "    if current_chunk:\n",
    "        chunks.append(current_chunk)\n",
    "\n",
    "    return chunks"
   ]
  },
  {
   "cell_type": "code",
   "execution_count": 40,
   "metadata": {},
   "outputs": [
    {
     "name": "stdout",
     "output_type": "stream",
     "text": [
      "As an AI text-based model, I don't have the ability to directly create visualizations. However, I can provide a detailed step-by-step process on how you can convert your floor plan\n",
      "into a maze in the X-Y plane format:\n",
      "\n",
      "1. **Coordinate System**: Begin by defining your X-Y plane. The X-axis can represent the width of the floorplan, while the Y-axis can represent the height. Each point (x, y) on thi\n",
      " plane corresponds to a specific point on your floor plan.\n",
      "\n",
      "2. **Walls as Barriers**: Translate the walls in your floor plan into barriers in your maze. Depending on the resolution of your grid, each wall might occupy one or multiple cells.\n",
      "You can represent barriers in a variety of ways. If you're coding, you could use a two-dimensional array, where each cell has a value of 0 (for open space) or 1 (for a barrier).\n",
      "\n",
      "3. **Staircases as Entry and Exit Points**: Choose one staircase to be the entry point and the other to be the exit point of your maze. Their positions can be defined by their X an\n",
      " Y coordinates on your grid. \n",
      "\n",
      "4. **Generating the Maze**: Start from the entry point and begin carving paths. There are many algorithms to do this, such as Prim's, Kruskal's, or recursive backtracker. Keep in m\n",
      "nd that you should not overwrite the walls/barriers or the exit point.\n",
      "\n",
      "5. **Visualizing the Maze**: You can visualize your maze using simple ASCII characters. You could use '#' for walls, 'S' for the start point, 'E' for the end point, and ' ' (space)\n",
      "for open paths. Alternatively, if you're using a programming language that supports graphics, you can use colors and shapes to represent these elements.\n",
      "\n",
      "For a practical application, you would need a graphical or programming tool to implement these steps. Python with libraries such as matplotlib, for instance, could be a suitable ch\n",
      "ice.\n"
     ]
    }
   ],
   "source": [
    "q_string = \"\"\"Imagine an x-y cartesian plane. Point A is at (100,100) and Point B is at (500,200).\n",
    "What is the distance from point A to point B.\n",
    "There are the following 3 rules to be obeyed during the journey.\n",
    "Rule 1: IF x = 200 THEN 200<y<300 for any point during the journey.\n",
    "Rule 2: IF x = 400 THEN 0<y<100 for any point during the journey.\n",
    "Rule 3: There is an outside bounding box so 0.5<x<599.5 & 0.5<y<299.5 for any point during the journey.\n",
    "\n",
    "PLEASE ENSURE THAT NO RULE SHOULD BE VIOLATED. I REPEAT. NO RULE.\"\"\"\n",
    "# Keeping these rules in mind, tell if the distance to both point A and point B is more than 45 from any point\n",
    "# in the cartesian plane\"\"\" \n",
    "\n",
    "# 3. There is an obstruction going from (200,0) to (200,200). So i can't go through this obstruction.\n",
    "\n",
    "# q_string = \"\"\"Give code to convert an image of a floorplan to a maze to go from one staircase\n",
    "# to another in python.\"\"\"\n",
    "\n",
    "q_string = \"\"\"Given a floorplan with walls and two staircases, I want to convert it into an X-Y plane representation and generate a maze. \n",
    "The walls in the floorplan should be translated into barriers in the maze, and the staircases should serve as entry and exit points.\n",
    " Provide me with a detailed description or visualization of the resulting maze in the X-Y plane format.\n",
    "\"\"\"\n",
    "\n",
    "large_string = chat_llm_chain.predict(human_input=q_string)\n",
    "\n",
    "# Split the string using the newline character\n",
    "lines = split_string(large_string)\n",
    "\n",
    "# Print each line\n",
    "for line in lines:\n",
    "    print(line)"
   ]
  },
  {
   "cell_type": "code",
   "execution_count": 41,
   "metadata": {},
   "outputs": [
    {
     "name": "stdout",
     "output_type": "stream",
     "text": [
      "As a text-based AI, I can't visualize this for you, but I can guide you on how to create this maze and solve it.\n",
      "\n",
      "1. **Coordinate System**: Set up a grid of 600 by 300. Each unit cell corresponds to 1 metre.\n",
      "\n",
      "2. **Walls as Barriers**: The wall that runs from (200,0) to (200,200) on your plane is a barrier. It spans across 200 units vertically on the grid and is located at x=200.\n",
      "\n",
      "3. **Staircases as Entry and Exit Points**: You have one staircase at (100,100) which will serve as the entry point (S), and another one at (500,500) which will serve as the exit p\n",
      "int (E).\n",
      "\n",
      "4. **Generating the Maze**: Since the only wall is a straight line and doesn't split the room, the simplest path from the entry to the exit would be a straight line avoiding the wa\n",
      "l. One could navigate by following the left wall (or right wall, depending on preference) until they reach the exit.\n",
      "\n",
      "5. **Solving the Maze**: Start at point S (100,100). Move right (increase x direction) until you hit the wall at (200,100). Then move up (increase y direction) until you reach (200\n",
      "200), the end of the wall. Continue moving right until you reach the exit at (500,500).\n",
      "\n",
      "The solution is quite straightforward due to the simplicity of the maze. In a more complex scenario, solving the maze could require a more sophisticated algorithm such as A* or Dij\n",
      "stra's algorithm.\n"
     ]
    }
   ],
   "source": [
    "q_string = \"\"\"I have a room which is 600 metres long and 300 metres wide. it has a wall that runs from (200,0) \n",
    "to (200,200) and another than runs from (400,100) to (400,300). One staircase is at (100,100) and another at (500,500). Conver this into the maze like i told before and solve.\n",
    "Consider each unit on the grid as a 1m by 1m\"\"\"\n",
    "\n",
    "large_string = chat_llm_chain.predict(human_input=q_string)\n",
    "\n",
    "# Split the string using the newline character\n",
    "lines = split_string(large_string)\n",
    "\n",
    "# Print each line\n",
    "for line in lines:\n",
    "    print(line)\n"
   ]
  }
 ],
 "metadata": {
  "kernelspec": {
   "display_name": "revit_llm_env",
   "language": "python",
   "name": "python3"
  },
  "language_info": {
   "codemirror_mode": {
    "name": "ipython",
    "version": 3
   },
   "file_extension": ".py",
   "mimetype": "text/x-python",
   "name": "python",
   "nbconvert_exporter": "python",
   "pygments_lexer": "ipython3",
   "version": "3.11.5"
  }
 },
 "nbformat": 4,
 "nbformat_minor": 2
}
