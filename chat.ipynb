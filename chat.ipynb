{
 "cells": [
  {
   "cell_type": "code",
   "execution_count": 1,
   "metadata": {},
   "outputs": [],
   "source": [
    "from langchain.chat_models import ChatOpenAI\n",
    "from langchain.chains import LLMChain\n",
    "from langchain.llms import OpenAI\n",
    "from langchain.memory import ConversationBufferMemory\n",
    "from langchain.prompts import PromptTemplate\n",
    "from langchain.prompts import (\n",
    "    ChatPromptTemplate,\n",
    "    HumanMessagePromptTemplate,\n",
    "    MessagesPlaceholder,\n",
    ")\n",
    "from langchain.schema import SystemMessage\n",
    "\n",
    "prompt = ChatPromptTemplate.from_messages(\n",
    "    [\n",
    "        SystemMessage(\n",
    "            content=\"You are a chatbot having a conversation with a human.\"\n",
    "        ),  # The persistent system prompt\n",
    "        MessagesPlaceholder(\n",
    "            variable_name=\"chat_history\"\n",
    "        ),  # Where the memory will be stored.\n",
    "        HumanMessagePromptTemplate.from_template(\n",
    "            \"{human_input}\"\n",
    "        ),  # Where the human input will injected\n",
    "    ]\n",
    ")\n",
    "\n",
    "memory = ConversationBufferMemory(memory_key=\"chat_history\", return_messages=True)\n",
    "\n",
    "llm = ChatOpenAI(model='gpt-4')\n",
    "\n",
    "# llm = OpenAI(model='gpt-4-vision-preview')\n",
    "\n",
    "chat_llm_chain = LLMChain(\n",
    "    llm=llm,\n",
    "    prompt=prompt,\n",
    "    verbose=True,\n",
    "    memory=memory,\n",
    ")\n",
    "\n",
    "# chat_llm_chain.predict(human_input=\"my name is angad\")"
   ]
  },
  {
   "cell_type": "code",
   "execution_count": 6,
   "metadata": {},
   "outputs": [],
   "source": [
    "# from langchain.schema.messages import HumanMessage, SystemMessage\n",
    "\n",
    "# chat = ChatOpenAI(model=\"gpt-4-vision-preview\")\n",
    "# chat.invoke(\n",
    "#     [\n",
    "#         HumanMessage(\n",
    "#             content=[\n",
    "#                 {\"type\": \"text\", \"text\": \"\"\"I'm giving you a floor plan. Describe it.\n",
    "#                  \"\"\"},\n",
    "#                 {\n",
    "#                     \"type\": \"image_url\",\n",
    "#                     \"image_url\": {\n",
    "#                         \"url\": \"https://www.grundriss-schmiede.de/images/buerogrundriss/buerogrundriss.png\",\n",
    "#                         \"detail\": \"auto\",\n",
    "#                     },\n",
    "#                 },\n",
    "#             ]\n",
    "#         )\n",
    "#     ]\n",
    "# )"
   ]
  },
  {
   "cell_type": "code",
   "execution_count": 2,
   "metadata": {},
   "outputs": [
    {
     "name": "stdout",
     "output_type": "stream",
     "text": [
      "\n",
      "\n",
      "\u001b[1m> Entering new LLMChain chain...\u001b[0m\n",
      "Prompt after formatting:\n",
      "\u001b[32;1m\u001b[1;3mSystem: You are a chatbot having a conversation with a human.\n",
      "Human: Imagine x-y cartesian plane. Point A is at (100,100) and Point B is at (500,200).\n",
      "I wanna go from point A to B with the following rules:\n",
      "1. 0<x<600 for any point (x,y) during the journey\n",
      "2. 0<y<300 for any point (x,y) during the journey\n",
      "3. There is an obstruction going from (200,0) to (200,200). So i can't go through this obstruction.\n",
      "\n",
      "Keeping these rules in mind, tell me the distance I need to travel to go from point A to point B\u001b[0m\n",
      "\n",
      "\u001b[1m> Finished chain.\u001b[0m\n"
     ]
    }
   ],
   "source": [
    "q_string = \"\"\"Imagine x-y cartesian plane. Point A is at (100,100) and Point B is at (500,200).\n",
    "I wanna go from point A to B with the following rules:\n",
    "1. 0<x<600 for any point (x,y) during the journey\n",
    "2. 0<y<300 for any point (x,y) during the journey\n",
    "3. There is an obstruction going from (200,0) to (200,200). So i can't go through this obstruction.\n",
    "\n",
    "Keeping these rules in mind, tell me the distance I need to travel to go from point A to point B\"\"\" \n",
    "\n",
    "large_string = chat_llm_chain.predict(human_input=q_string)"
   ]
  },
  {
   "cell_type": "code",
   "execution_count": 4,
   "metadata": {},
   "outputs": [
    {
     "name": "stdout",
     "output_type": "stream",
     "text": [
      "To go from Point A to Point B while avoiding the obstruction, you would need to move up or down before you can go straight to the right (or east, if you are thinking in terms of a map). Since the obstruction is from (200,0) to (200,200), you could go up to (100,300), then to (200,300), then down to (200,200), and finally to (500,200).\n",
      "\n",
      "Here's how the distance would break down:\n",
      "\n",
      "1. From A (100,100) to (100,300): This is a vertical move of 200 units.\n",
      "2. From (100,300) to (200,300): This is a horizontal move of 100 units.\n",
      "3. From (200,300) to B (500,200): This is a diagonal move. You can calculate the distance using the Pythagorean theorem, which is √[(500-200)² + (300-200)²] = √[300² + 100²] = √(100000) = 316.23 units (rounded to 2 decimal places).\n",
      "\n",
      "Adding it all up, the total distance you would need to travel is 200 + 100 + 316.23 = 616.23 units.\n"
     ]
    }
   ],
   "source": [
    "# Split the string using the newline character\n",
    "lines = large_string.split('\\n')\n",
    "\n",
    "# Print each line\n",
    "for line in lines:\n",
    "    print(line)"
   ]
  },
  {
   "cell_type": "code",
   "execution_count": 23,
   "metadata": {},
   "outputs": [
    {
     "name": "stdout",
     "output_type": "stream",
     "text": [
      "\n",
      "\n",
      "\u001b[1m> Entering new LLMChain chain...\u001b[0m\n",
      "Prompt after formatting:\n",
      "\u001b[32;1m\u001b[1;3mSystem: You are a chatbot having a conversation with a human.\n",
      "Human: Imagine x-y cartesian plane. Point A is at (100,100) and Point B is at (500,200).\n",
      "I wanna go from point A to B with the following rules:\n",
      "1. 0<x<600 for any point (x,y) during the journey\n",
      "2. 0<y<300 for any point (x,y) during the journey\n",
      "3. There is an obstruction going from (200,0) to (200,200). So i can't go through this obstruction.\n",
      "4. There is another obstruction going from (400,0) to (400,300). So i can't go through this obstruction\n",
      "\n",
      "\n",
      "\n",
      "There is a guideline that the distance from point A to point B should be less than 45. Does this configuration \n",
      "follow the guideline? Please keep the rules 1 to 4 in mind.\n",
      "AI: Given the obstructions and constraints, the shortest path would be to travel from A to the point just before the first obstruction (200,100), then move straight up to the point just above the obstruction (200,200), then move right to the point just before the second obstruction (400,200), then move straight up to the point just above the obstruction (400,300), and finally move right to point B (500,200). \n",
      "\n",
      "Let's calculate the distances for each segment of the journey:\n",
      "\n",
      "1. From A to just before the first obstruction: This is a horizontal move of 100 units (from x=100 to x=200) at y=100. So the distance is 100.\n",
      "\n",
      "2. Moving up to above the first obstruction: This is a vertical move of 100 units (from y=100 to y=200). So the distance is 100.\n",
      "\n",
      "3. Moving right to just before the second obstruction: This is a horizontal move of 200 units (from x=200 to x=400) at y=200. So the distance is 200.\n",
      "\n",
      "4. Moving up to above the second obstruction: This is a vertical move of 100 units (from y=200 to y=300). So the distance is 100.\n",
      "\n",
      "5. From above the second obstruction to B: This is a horizontal move of 100 units (from x=400 to x=500) at y=300. So the distance is 100.\n",
      "\n",
      "Adding up these distances, the total is 600. Since 600 is greater than 45, unfortunately, the configuration does not follow the guideline of the total distance being less than 45.\n",
      "Human: u are walking through the second wall\u001b[0m\n"
     ]
    }
   ],
   "source": [
    "q_string = \"\"\"u are walking through the second wall\"\"\" \n",
    "large_string = chat_llm_chain.predict(human_input=q_string)"
   ]
  },
  {
   "cell_type": "code",
   "execution_count": 9,
   "metadata": {},
   "outputs": [
    {
     "name": "stdout",
     "output_type": "stream",
     "text": [
      "I apologize for the confusion. You're absolutely correct. Let's correct that.\n",
      "\n",
      "1. The person starts at the first staircase at (100, 100).\n",
      "\n",
      "2. The person will need to walk to the end of the first wall at (200, 200). This distance is 100 units in the y direction.\n",
      "\n",
      "3. Then, the person must walk along the x-axis to the start of the second wall at (400, 200). This distance is 200 units in the x direction.\n",
      "\n",
      "4. At this point, the person cannot walk straight to the staircase because there's a wall from (400, 100) to (400, 300). They must first walk upwards along the y-axis to the end of this wall at (400, 300). This distance is 100 units in the y direction.\n",
      "\n",
      "5. Finally, the person will walk from (400, 300) to the second staircase at (500, 200). This involves a walk of 100 units in the x direction and 100 units in the -y direction.\n",
      "\n",
      "So, the total shortest distance the person would need to walk is: 100 (to first wall) + 200 (to second wall along x-axis) + 100 (to end of second wall) + 100 (to second staircase in x direction) + 100 (to second staircase in -y direction) = 600 meters.\n"
     ]
    }
   ],
   "source": [
    "\n",
    "# Split the string using the newline character\n",
    "lines = large_string.split('\\n')\n",
    "\n",
    "# Print each line\n",
    "for line in lines:\n",
    "    print(line)"
   ]
  },
  {
   "cell_type": "code",
   "execution_count": 13,
   "metadata": {},
   "outputs": [
    {
     "name": "stdout",
     "output_type": "stream",
     "text": [
      "\n",
      "\n",
      "\u001b[1m> Entering new LLMChain chain...\u001b[0m\n",
      "Prompt after formatting:\n",
      "\u001b[32;1m\u001b[1;3mSystem: You are a chatbot having a conversation with a human.\n",
      "Human: I have many floors and walls at different levels in a Revit project. For a given floor, i wanna check if it has a terrace.\n",
      "A floor will have terrace if it has any region that is not bounded by walls from all sides. so first i wanna check which walls intersect with\n",
      "the floor. Then i wanna check if these walls completely surrounf the floor from all sides. use uidoc.selection where uidoc=__revit__.activeuidocument\n",
      "AI: To achieve this, you need to use the Revit API, which allows you to access and manipulate the underlying data of your Revit model. Here is a simplified version of how you might approach this:\n",
      "\n",
      "First, you need to get all the floors and walls in your project:\n",
      "\n",
      "```python\n",
      "# Get all the floors in the project\n",
      "floors = FilteredElementCollector(doc).OfCategory(BuiltInCategory.OST_Floors).WhereElementIsNotElementType().ToElements()\n",
      "\n",
      "# Get all the walls in the project\n",
      "walls = FilteredElementCollector(doc).OfCategory(BuiltInCategory.OST_Walls).WhereElementIsNotElementType().ToElements()\n",
      "```\n",
      "Next, for a given floor, you can loop through all the walls and check if they intersect with the floor:\n",
      "\n",
      "```python\n",
      "for floor in floors:\n",
      "    floor_outline = floor.get_Geometry(Options()).GetTransformed(Transform.Identity).GetBoundingBox().ToOutline()\n",
      "    \n",
      "    for wall in walls:\n",
      "        wall_outline = wall.get_Geometry(Options()).GetTransformed(Transform.Identity).GetBoundingBox().ToOutline()\n",
      "        \n",
      "        if floor_outline.Intersects(wall_outline, 0.0001):  # If the wall intersects with the floor\n",
      "            # Check if the wall completely surrounds the floor\n",
      "```\n",
      "Lastly, to check if the walls completely surround the floor, you can create a closed loop from the walls that intersect with the floor and check if this loop contains the floor. This might be the trickiest part because it requires advanced knowledge of geometry and the Revit API.\n",
      "\n",
      "Please note that the above code is a simplification and might not work as-is. You will most likely need to modify and expand it to fit your specific needs. The Revit API is complex and can be difficult to work with if you are not familiar with it. Consider hiring a professional developer or getting in touch with Autodesk support if you have difficulties.\n",
      "Human: there no method called get_Geometry()\n",
      "AI: I apologize for the confusion. You are correct, there's no `get_Geometry()` method in the Revit API. The correct method to retrieve the geometric representation of the element is `get_Geometry()`. Here is how you can correct the previous code:\n",
      "\n",
      "```python\n",
      "# Get all the floors in the project\n",
      "floors = FilteredElementCollector(doc).OfCategory(BuiltInCategory.OST_Floors).WhereElementIsNotElementType().ToElements()\n",
      "\n",
      "# Get all the walls in the project\n",
      "walls = FilteredElementCollector(doc).OfCategory(BuiltInCategory.OST_Walls).WhereElementIsNotElementType().ToElements()\n",
      "\n",
      "options = Options()\n",
      "\n",
      "for floor in floors:\n",
      "    floor_geom = floor.get_Geometry(options)\n",
      "\n",
      "    for floor_solid in floor_geom:\n",
      "        if floor_solid.GetType() == Solid: # Checking if the geometry instance is a Solid\n",
      "            for wall in walls:\n",
      "                wall_geom = wall.get_Geometry(options)\n",
      "\n",
      "                for wall_solid in wall_geom:\n",
      "                    if wall_solid.GetType() == Solid: # Checking if the geometry instance is a Solid\n",
      "                        # Check if the wall intersects with the floor\n",
      "                        if Intersect(solid_floor, solid_wall) == SetComparisonResult.Overlap:\n",
      "                            # Do something\n",
      "```\n",
      "Remember this is a simplified version of what you would need to do. Depending on your specific needs, you might need to handle more edge cases or add additional checks. Also, please remember that the `Intersect()` method and `SetComparisonResult.Overlap` are placeholders for your intersection logic and results. You would need to implement or use an existing method to check for intersection.\n",
      "Human: bro you used it again despite me telling you its not a method\u001b[0m\n",
      "\n",
      "\u001b[1m> Finished chain.\u001b[0m\n"
     ]
    }
   ],
   "source": [
    "q_string = \"\"\"bro you used it again despite me telling you its not a method\"\"\" \n",
    "large_string = chat_llm_chain.predict(human_input=q_string)"
   ]
  },
  {
   "cell_type": "code",
   "execution_count": 14,
   "metadata": {},
   "outputs": [
    {
     "name": "stdout",
     "output_type": "stream",
     "text": [
      "I apologize for the confusion. You are right, the `get_Geometry()` method doesn't exist. The proper way to get an element's geometry in Revit API is using the `Geometry` property. \n",
      "\n",
      "Here's a corrected version of the previous example:\n",
      "\n",
      "```python\n",
      "# Get all the floors in the project\n",
      "floors = FilteredElementCollector(doc).OfCategory(BuiltInCategory.OST_Floors).WhereElementIsNotElementType().ToElements()\n",
      "\n",
      "# Get all the walls in the project\n",
      "walls = FilteredElementCollector(doc).OfCategory(BuiltInCategory.OST_Walls).WhereElementIsNotElementType().ToElements()\n",
      "\n",
      "options = Options()\n",
      "\n",
      "for floor in floors:\n",
      "    floor_geom = floor.Geometry[options]\n",
      "\n",
      "    for floor_solid in floor_geom:\n",
      "        if isinstance(floor_solid, Solid): # Checking if the geometry instance is a Solid\n",
      "            for wall in walls:\n",
      "                wall_geom = wall.Geometry[options]\n",
      "\n",
      "                for wall_solid in wall_geom:\n",
      "                    if isinstance(wall_solid, Solid): # Checking if the geometry instance is a Solid\n",
      "                        # Check if the wall intersects with the floor\n",
      "                        if Intersect(solid_floor, solid_wall) == SetComparisonResult.Overlap:\n",
      "                            # Do something\n",
      "```\n",
      "Again, please note that the `Intersect()` method and `SetComparisonResult.Overlap` are placeholders for your intersection logic and results. You would need to implement or use an existing method to check for intersection.\n"
     ]
    }
   ],
   "source": [
    "\n",
    "# Split the string using the newline character\n",
    "lines = large_string.split('\\n')\n",
    "\n",
    "# Print each line\n",
    "for line in lines:\n",
    "    print(line)"
   ]
  }
 ],
 "metadata": {
  "kernelspec": {
   "display_name": "revit_llm_env",
   "language": "python",
   "name": "python3"
  },
  "language_info": {
   "codemirror_mode": {
    "name": "ipython",
    "version": 3
   },
   "file_extension": ".py",
   "mimetype": "text/x-python",
   "name": "python",
   "nbconvert_exporter": "python",
   "pygments_lexer": "ipython3",
   "version": "3.11.5"
  }
 },
 "nbformat": 4,
 "nbformat_minor": 2
}
