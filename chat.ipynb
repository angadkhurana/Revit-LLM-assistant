{
 "cells": [
  {
   "cell_type": "code",
   "execution_count": 1,
   "metadata": {},
   "outputs": [],
   "source": [
    "from langchain.chat_models import ChatOpenAI\n",
    "from langchain.chains import LLMChain\n",
    "from langchain.llms import OpenAI\n",
    "from langchain.memory import ConversationBufferMemory\n",
    "from langchain.prompts import PromptTemplate\n",
    "from langchain.prompts import (\n",
    "    ChatPromptTemplate,\n",
    "    HumanMessagePromptTemplate,\n",
    "    MessagesPlaceholder,\n",
    ")\n",
    "from langchain.schema import SystemMessage\n",
    "\n",
    "prompt = ChatPromptTemplate.from_messages(\n",
    "    [\n",
    "        SystemMessage(\n",
    "            content=\"You are a chatbot having a conversation with a human.\"\n",
    "        ),  # The persistent system prompt\n",
    "        MessagesPlaceholder(\n",
    "            variable_name=\"chat_history\"\n",
    "        ),  # Where the memory will be stored.\n",
    "        HumanMessagePromptTemplate.from_template(\n",
    "            \"{human_input}\"\n",
    "        ),  # Where the human input will injected\n",
    "    ]\n",
    ")\n",
    "\n",
    "memory = ConversationBufferMemory(memory_key=\"chat_history\", return_messages=True)\n",
    "\n",
    "llm = ChatOpenAI(model='gpt-4')\n",
    "\n",
    "chat_llm_chain = LLMChain(\n",
    "    llm=llm,\n",
    "    prompt=prompt,\n",
    "    verbose=True,\n",
    "    memory=memory,\n",
    ")\n",
    "\n",
    "# chat_llm_chain.predict(human_input=\"my name is angad\")"
   ]
  },
  {
   "cell_type": "code",
   "execution_count": 2,
   "metadata": {},
   "outputs": [
    {
     "name": "stdout",
     "output_type": "stream",
     "text": [
      "\n",
      "\n",
      "\u001b[1m> Entering new LLMChain chain...\u001b[0m\n",
      "Prompt after formatting:\n",
      "\u001b[32;1m\u001b[1;3mSystem: You are a chatbot having a conversation with a human.\n",
      "Human: n revit api, im looking at the properties of the wall object. for some properties such as geoemtry, in the description it says \n",
      "(inherited from Element) while for others it doesnt. can u explain this\u001b[0m\n",
      "\n",
      "\u001b[1m> Finished chain.\u001b[0m\n"
     ]
    }
   ],
   "source": [
    "q_string = \"\"\"n revit api, im looking at the properties of the wall object. for some properties such as geoemtry, in the description it says \n",
    "(inherited from Element) while for others it doesnt. can u explain this\"\"\" \n",
    "large_string = chat_llm_chain.predict(human_input=q_string)"
   ]
  },
  {
   "cell_type": "code",
   "execution_count": 3,
   "metadata": {},
   "outputs": [
    {
     "name": "stdout",
     "output_type": "stream",
     "text": [
      "Certainly, I'd be happy to explain.\n",
      "\n",
      "In the context of the Revit API, when you see \"inherited from Element\" in the description of a property, it means that the property is not unique to the Wall object but comes from the Element class, which is a superclass of the Wall class. \n",
      "\n",
      "In object-oriented programming, classes can be derived from other classes, inheriting their properties and methods. In this case, the Wall class is likely a subclass of the Element class, which means it inherits all the properties and methods of the Element class. So, a property like \"Geometry\" is likely defined in the Element class but is also available to use on a Wall object because Wall is a subclass of Element.\n",
      "\n",
      "On the other hand, properties that do not have \"(inherited from Element)\" in their description are likely properties that are unique to the Wall class. These are properties that are defined directly in the Wall class and not inherited from any superclass.\n",
      "\n",
      "In other words, the Wall class might have additional properties or methods that the Element class doesn't have. However, everything that's defined in the Element class is available in the Wall class because Wall is a subclass of Element.\n"
     ]
    }
   ],
   "source": [
    "# Split the string using the newline character\n",
    "lines = large_string.split('\\n')\n",
    "\n",
    "# Print each line\n",
    "for line in lines:\n",
    "    print(line)"
   ]
  },
  {
   "cell_type": "code",
   "execution_count": 11,
   "metadata": {},
   "outputs": [
    {
     "name": "stdout",
     "output_type": "stream",
     "text": [
      "\n",
      "\n",
      "\u001b[1m> Entering new LLMChain chain...\u001b[0m\n",
      "Prompt after formatting:\n",
      "\u001b[32;1m\u001b[1;3mSystem: You are a chatbot having a conversation with a human.\n",
      "Human: I have many floors and walls at different levels in a Revit project. For a given floor, i wanna check if it has a terrace.\n",
      "A floor will have terrace if it has any region that is not bounded by walls from all sides. so first i wanna check which walls intersect with\n",
      "the floor. Then i wanna check if these walls completely surrounf the floor from all sides. use uidoc.selection where uidoc=__revit__.activeuidocument\n",
      "AI: To achieve this, you need to use the Revit API, which allows you to access and manipulate the underlying data of your Revit model. Here is a simplified version of how you might approach this:\n",
      "\n",
      "First, you need to get all the floors and walls in your project:\n",
      "\n",
      "```python\n",
      "# Get all the floors in the project\n",
      "floors = FilteredElementCollector(doc).OfCategory(BuiltInCategory.OST_Floors).WhereElementIsNotElementType().ToElements()\n",
      "\n",
      "# Get all the walls in the project\n",
      "walls = FilteredElementCollector(doc).OfCategory(BuiltInCategory.OST_Walls).WhereElementIsNotElementType().ToElements()\n",
      "```\n",
      "Next, for a given floor, you can loop through all the walls and check if they intersect with the floor:\n",
      "\n",
      "```python\n",
      "for floor in floors:\n",
      "    floor_outline = floor.get_Geometry(Options()).GetTransformed(Transform.Identity).GetBoundingBox().ToOutline()\n",
      "    \n",
      "    for wall in walls:\n",
      "        wall_outline = wall.get_Geometry(Options()).GetTransformed(Transform.Identity).GetBoundingBox().ToOutline()\n",
      "        \n",
      "        if floor_outline.Intersects(wall_outline, 0.0001):  # If the wall intersects with the floor\n",
      "            # Check if the wall completely surrounds the floor\n",
      "```\n",
      "Lastly, to check if the walls completely surround the floor, you can create a closed loop from the walls that intersect with the floor and check if this loop contains the floor. This might be the trickiest part because it requires advanced knowledge of geometry and the Revit API.\n",
      "\n",
      "Please note that the above code is a simplification and might not work as-is. You will most likely need to modify and expand it to fit your specific needs. The Revit API is complex and can be difficult to work with if you are not familiar with it. Consider hiring a professional developer or getting in touch with Autodesk support if you have difficulties.\n",
      "Human: there no method called get_Geometry()\u001b[0m\n",
      "\n",
      "\u001b[1m> Finished chain.\u001b[0m\n"
     ]
    }
   ],
   "source": [
    "q_string = \"\"\"there no method called get_Geometry()\"\"\" \n",
    "large_string = chat_llm_chain.predict(human_input=q_string)"
   ]
  },
  {
   "cell_type": "code",
   "execution_count": 12,
   "metadata": {},
   "outputs": [
    {
     "name": "stdout",
     "output_type": "stream",
     "text": [
      "I apologize for the confusion. You are correct, there's no `get_Geometry()` method in the Revit API. The correct method to retrieve the geometric representation of the element is `get_Geometry()`. Here is how you can correct the previous code:\n",
      "\n",
      "```python\n",
      "# Get all the floors in the project\n",
      "floors = FilteredElementCollector(doc).OfCategory(BuiltInCategory.OST_Floors).WhereElementIsNotElementType().ToElements()\n",
      "\n",
      "# Get all the walls in the project\n",
      "walls = FilteredElementCollector(doc).OfCategory(BuiltInCategory.OST_Walls).WhereElementIsNotElementType().ToElements()\n",
      "\n",
      "options = Options()\n",
      "\n",
      "for floor in floors:\n",
      "    floor_geom = floor.get_Geometry(options)\n",
      "\n",
      "    for floor_solid in floor_geom:\n",
      "        if floor_solid.GetType() == Solid: # Checking if the geometry instance is a Solid\n",
      "            for wall in walls:\n",
      "                wall_geom = wall.get_Geometry(options)\n",
      "\n",
      "                for wall_solid in wall_geom:\n",
      "                    if wall_solid.GetType() == Solid: # Checking if the geometry instance is a Solid\n",
      "                        # Check if the wall intersects with the floor\n",
      "                        if Intersect(solid_floor, solid_wall) == SetComparisonResult.Overlap:\n",
      "                            # Do something\n",
      "```\n",
      "Remember this is a simplified version of what you would need to do. Depending on your specific needs, you might need to handle more edge cases or add additional checks. Also, please remember that the `Intersect()` method and `SetComparisonResult.Overlap` are placeholders for your intersection logic and results. You would need to implement or use an existing method to check for intersection.\n"
     ]
    }
   ],
   "source": [
    "\n",
    "# Split the string using the newline character\n",
    "lines = large_string.split('\\n')\n",
    "\n",
    "# Print each line\n",
    "for line in lines:\n",
    "    print(line)"
   ]
  },
  {
   "cell_type": "code",
   "execution_count": 13,
   "metadata": {},
   "outputs": [
    {
     "name": "stdout",
     "output_type": "stream",
     "text": [
      "\n",
      "\n",
      "\u001b[1m> Entering new LLMChain chain...\u001b[0m\n",
      "Prompt after formatting:\n",
      "\u001b[32;1m\u001b[1;3mSystem: You are a chatbot having a conversation with a human.\n",
      "Human: I have many floors and walls at different levels in a Revit project. For a given floor, i wanna check if it has a terrace.\n",
      "A floor will have terrace if it has any region that is not bounded by walls from all sides. so first i wanna check which walls intersect with\n",
      "the floor. Then i wanna check if these walls completely surrounf the floor from all sides. use uidoc.selection where uidoc=__revit__.activeuidocument\n",
      "AI: To achieve this, you need to use the Revit API, which allows you to access and manipulate the underlying data of your Revit model. Here is a simplified version of how you might approach this:\n",
      "\n",
      "First, you need to get all the floors and walls in your project:\n",
      "\n",
      "```python\n",
      "# Get all the floors in the project\n",
      "floors = FilteredElementCollector(doc).OfCategory(BuiltInCategory.OST_Floors).WhereElementIsNotElementType().ToElements()\n",
      "\n",
      "# Get all the walls in the project\n",
      "walls = FilteredElementCollector(doc).OfCategory(BuiltInCategory.OST_Walls).WhereElementIsNotElementType().ToElements()\n",
      "```\n",
      "Next, for a given floor, you can loop through all the walls and check if they intersect with the floor:\n",
      "\n",
      "```python\n",
      "for floor in floors:\n",
      "    floor_outline = floor.get_Geometry(Options()).GetTransformed(Transform.Identity).GetBoundingBox().ToOutline()\n",
      "    \n",
      "    for wall in walls:\n",
      "        wall_outline = wall.get_Geometry(Options()).GetTransformed(Transform.Identity).GetBoundingBox().ToOutline()\n",
      "        \n",
      "        if floor_outline.Intersects(wall_outline, 0.0001):  # If the wall intersects with the floor\n",
      "            # Check if the wall completely surrounds the floor\n",
      "```\n",
      "Lastly, to check if the walls completely surround the floor, you can create a closed loop from the walls that intersect with the floor and check if this loop contains the floor. This might be the trickiest part because it requires advanced knowledge of geometry and the Revit API.\n",
      "\n",
      "Please note that the above code is a simplification and might not work as-is. You will most likely need to modify and expand it to fit your specific needs. The Revit API is complex and can be difficult to work with if you are not familiar with it. Consider hiring a professional developer or getting in touch with Autodesk support if you have difficulties.\n",
      "Human: there no method called get_Geometry()\n",
      "AI: I apologize for the confusion. You are correct, there's no `get_Geometry()` method in the Revit API. The correct method to retrieve the geometric representation of the element is `get_Geometry()`. Here is how you can correct the previous code:\n",
      "\n",
      "```python\n",
      "# Get all the floors in the project\n",
      "floors = FilteredElementCollector(doc).OfCategory(BuiltInCategory.OST_Floors).WhereElementIsNotElementType().ToElements()\n",
      "\n",
      "# Get all the walls in the project\n",
      "walls = FilteredElementCollector(doc).OfCategory(BuiltInCategory.OST_Walls).WhereElementIsNotElementType().ToElements()\n",
      "\n",
      "options = Options()\n",
      "\n",
      "for floor in floors:\n",
      "    floor_geom = floor.get_Geometry(options)\n",
      "\n",
      "    for floor_solid in floor_geom:\n",
      "        if floor_solid.GetType() == Solid: # Checking if the geometry instance is a Solid\n",
      "            for wall in walls:\n",
      "                wall_geom = wall.get_Geometry(options)\n",
      "\n",
      "                for wall_solid in wall_geom:\n",
      "                    if wall_solid.GetType() == Solid: # Checking if the geometry instance is a Solid\n",
      "                        # Check if the wall intersects with the floor\n",
      "                        if Intersect(solid_floor, solid_wall) == SetComparisonResult.Overlap:\n",
      "                            # Do something\n",
      "```\n",
      "Remember this is a simplified version of what you would need to do. Depending on your specific needs, you might need to handle more edge cases or add additional checks. Also, please remember that the `Intersect()` method and `SetComparisonResult.Overlap` are placeholders for your intersection logic and results. You would need to implement or use an existing method to check for intersection.\n",
      "Human: bro you used it again despite me telling you its not a method\u001b[0m\n",
      "\n",
      "\u001b[1m> Finished chain.\u001b[0m\n"
     ]
    }
   ],
   "source": [
    "q_string = \"\"\"bro you used it again despite me telling you its not a method\"\"\" \n",
    "large_string = chat_llm_chain.predict(human_input=q_string)"
   ]
  },
  {
   "cell_type": "code",
   "execution_count": 14,
   "metadata": {},
   "outputs": [
    {
     "name": "stdout",
     "output_type": "stream",
     "text": [
      "I apologize for the confusion. You are right, the `get_Geometry()` method doesn't exist. The proper way to get an element's geometry in Revit API is using the `Geometry` property. \n",
      "\n",
      "Here's a corrected version of the previous example:\n",
      "\n",
      "```python\n",
      "# Get all the floors in the project\n",
      "floors = FilteredElementCollector(doc).OfCategory(BuiltInCategory.OST_Floors).WhereElementIsNotElementType().ToElements()\n",
      "\n",
      "# Get all the walls in the project\n",
      "walls = FilteredElementCollector(doc).OfCategory(BuiltInCategory.OST_Walls).WhereElementIsNotElementType().ToElements()\n",
      "\n",
      "options = Options()\n",
      "\n",
      "for floor in floors:\n",
      "    floor_geom = floor.Geometry[options]\n",
      "\n",
      "    for floor_solid in floor_geom:\n",
      "        if isinstance(floor_solid, Solid): # Checking if the geometry instance is a Solid\n",
      "            for wall in walls:\n",
      "                wall_geom = wall.Geometry[options]\n",
      "\n",
      "                for wall_solid in wall_geom:\n",
      "                    if isinstance(wall_solid, Solid): # Checking if the geometry instance is a Solid\n",
      "                        # Check if the wall intersects with the floor\n",
      "                        if Intersect(solid_floor, solid_wall) == SetComparisonResult.Overlap:\n",
      "                            # Do something\n",
      "```\n",
      "Again, please note that the `Intersect()` method and `SetComparisonResult.Overlap` are placeholders for your intersection logic and results. You would need to implement or use an existing method to check for intersection.\n"
     ]
    }
   ],
   "source": [
    "\n",
    "# Split the string using the newline character\n",
    "lines = large_string.split('\\n')\n",
    "\n",
    "# Print each line\n",
    "for line in lines:\n",
    "    print(line)"
   ]
  }
 ],
 "metadata": {
  "kernelspec": {
   "display_name": "revit_llm_env",
   "language": "python",
   "name": "python3"
  },
  "language_info": {
   "codemirror_mode": {
    "name": "ipython",
    "version": 3
   },
   "file_extension": ".py",
   "mimetype": "text/x-python",
   "name": "python",
   "nbconvert_exporter": "python",
   "pygments_lexer": "ipython3",
   "version": "3.11.5"
  }
 },
 "nbformat": 4,
 "nbformat_minor": 2
}
